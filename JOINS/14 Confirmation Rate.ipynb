{
 "cells": [
  {
   "cell_type": "markdown",
   "metadata": {
    "application/vnd.databricks.v1+cell": {
     "cellMetadata": {
      "byteLimit": 2048000,
      "rowLimit": 10000
     },
     "inputWidgets": {},
     "nuid": "3d317787-e188-401d-b134-3c6f50378d03",
     "showTitle": false,
     "tableResultSettingsMap": {},
     "title": ""
    }
   },
   "source": [
    "<pre>\n",
    "Table: Signups\n",
    "\n",
    "+----------------+----------+\n",
    "| Column Name    | Type     |\n",
    "+----------------+----------+\n",
    "| user_id        | int      |\n",
    "| time_stamp     | datetime |\n",
    "+----------------+----------+\n",
    "user_id is the column of unique values for this table.\n",
    "Each row contains information about the signup time for the user with ID user_id.\n",
    " \n",
    "\n",
    "Table: Confirmations\n",
    "\n",
    "+----------------+----------+\n",
    "| Column Name    | Type     |\n",
    "+----------------+----------+\n",
    "| user_id        | int      |\n",
    "| time_stamp     | datetime |\n",
    "| action         | ENUM     |\n",
    "+----------------+----------+\n",
    "(user_id, time_stamp) is the primary key (combination of columns with unique values) for this table.\n",
    "user_id is a foreign key (reference column) to the Signups table.\n",
    "action is an ENUM (category) of the type ('confirmed', 'timeout')\n",
    "Each row of this table indicates that the user with ID user_id requested a confirmation message at time_stamp and that confirmation message was either confirmed ('confirmed') or expired without confirming ('timeout').\n",
    " \n",
    "\n",
    "The confirmation rate of a user is the number of 'confirmed' messages divided by the total number of requested confirmation messages. The confirmation rate of a user that did not request any confirmation messages is 0. Round the confirmation rate to two decimal places.\n",
    "\n",
    "Write a solution to find the confirmation rate of each user.\n",
    "\n",
    "Return the result table in any order.\n",
    "\n",
    "The result format is in the following example.\n",
    "\n",
    " \n",
    "\n",
    "Example 1:\n",
    "\n",
    "Input: \n",
    "Signups table:\n",
    "+---------+---------------------+\n",
    "| user_id | time_stamp          |\n",
    "+---------+---------------------+\n",
    "| 3       | 2020-03-21 10:16:13 |\n",
    "| 7       | 2020-01-04 13:57:59 |\n",
    "| 2       | 2020-07-29 23:09:44 |\n",
    "| 6       | 2020-12-09 10:39:37 |\n",
    "+---------+---------------------+\n",
    "Confirmations table:\n",
    "+---------+---------------------+-----------+\n",
    "| user_id | time_stamp          | action    |\n",
    "+---------+---------------------+-----------+\n",
    "| 3       | 2021-01-06 03:30:46 | timeout   |\n",
    "| 3       | 2021-07-14 14:00:00 | timeout   |\n",
    "| 7       | 2021-06-12 11:57:29 | confirmed |\n",
    "| 7       | 2021-06-13 12:58:28 | confirmed |\n",
    "| 7       | 2021-06-14 13:59:27 | confirmed |\n",
    "| 2       | 2021-01-22 00:00:00 | confirmed |\n",
    "| 2       | 2021-02-28 23:59:59 | timeout   |\n",
    "+---------+---------------------+-----------+\n",
    "Output: \n",
    "+---------+-------------------+\n",
    "| user_id | confirmation_rate |\n",
    "+---------+-------------------+\n",
    "| 6       | 0.00              |\n",
    "| 3       | 0.00              |\n",
    "| 7       | 1.00              |\n",
    "| 2       | 0.50              |\n",
    "+---------+-------------------+\n",
    "Explanation: \n",
    "User 6 did not request any confirmation messages. The confirmation rate is 0.\n",
    "User 3 made 2 requests and both timed out. The confirmation rate is 0.\n",
    "User 7 made 3 requests and all were confirmed. The confirmation rate is 1.\n",
    "User 2 made 2 requests where one was confirmed and the other timed out. The confirmation rate is 1 / 2 = 0.5.\n",
    "</pre>"
   ]
  },
  {
   "cell_type": "code",
   "execution_count": 0,
   "metadata": {
    "application/vnd.databricks.v1+cell": {
     "cellMetadata": {
      "byteLimit": 2048000,
      "rowLimit": 10000
     },
     "inputWidgets": {},
     "nuid": "998fb656-8d25-46c0-bdd8-789c35bb3b54",
     "showTitle": false,
     "tableResultSettingsMap": {},
     "title": ""
    }
   },
   "outputs": [
    {
     "output_type": "display_data",
     "data": {
      "text/html": [
       "\n",
       "            <div>\n",
       "                <p><b>SparkSession - hive</b></p>\n",
       "                \n",
       "        <div>\n",
       "            <p><b>SparkContext</b></p>\n",
       "\n",
       "            <p><a href=\"/?o=3382754090532250#setting/sparkui/0308-073616-ahtti7f0/driver-8799553522129628993\">Spark UI</a></p>\n",
       "\n",
       "            <dl>\n",
       "              <dt>Version</dt>\n",
       "                <dd><code>v3.3.2</code></dd>\n",
       "              <dt>Master</dt>\n",
       "                <dd><code>local[8]</code></dd>\n",
       "              <dt>AppName</dt>\n",
       "                <dd><code>Databricks Shell</code></dd>\n",
       "            </dl>\n",
       "        </div>\n",
       "        \n",
       "            </div>\n",
       "        "
      ]
     },
     "metadata": {
      "application/vnd.databricks.v1+output": {
       "addedWidgets": {},
       "arguments": {},
       "data": "\n            <div>\n                <p><b>SparkSession - hive</b></p>\n                \n        <div>\n            <p><b>SparkContext</b></p>\n\n            <p><a href=\"/?o=3382754090532250#setting/sparkui/0308-073616-ahtti7f0/driver-8799553522129628993\">Spark UI</a></p>\n\n            <dl>\n              <dt>Version</dt>\n                <dd><code>v3.3.2</code></dd>\n              <dt>Master</dt>\n                <dd><code>local[8]</code></dd>\n              <dt>AppName</dt>\n                <dd><code>Databricks Shell</code></dd>\n            </dl>\n        </div>\n        \n            </div>\n        ",
       "datasetInfos": [],
       "metadata": {},
       "removedWidgets": [],
       "textData": null,
       "type": "htmlSandbox"
      }
     },
     "output_type": "display_data"
    }
   ],
   "source": [
    "spark"
   ]
  },
  {
   "cell_type": "code",
   "execution_count": 0,
   "metadata": {
    "application/vnd.databricks.v1+cell": {
     "cellMetadata": {
      "byteLimit": 2048000,
      "rowLimit": 10000
     },
     "inputWidgets": {},
     "nuid": "a5b00b73-8ceb-499a-96c8-dfde53722983",
     "showTitle": false,
     "tableResultSettingsMap": {},
     "title": ""
    }
   },
   "outputs": [],
   "source": [
    "# importing pyspark sql functions\n",
    "from pyspark.sql.functions import *\n",
    "\n",
    "# importing sql types from pyspark\n",
    "from pyspark.sql.types import StructType, StructField, StringType, TimestampType, DoubleType, IntegerType, DateType, FloatType\n",
    "\n",
    "# importing SparkSession\n",
    "from pyspark.sql import SparkSession\n"
   ]
  },
  {
   "cell_type": "code",
   "execution_count": 0,
   "metadata": {
    "application/vnd.databricks.v1+cell": {
     "cellMetadata": {
      "byteLimit": 2048000,
      "rowLimit": 10000
     },
     "inputWidgets": {},
     "nuid": "14b57f35-8269-4f83-bbba-5686d19a62e7",
     "showTitle": false,
     "tableResultSettingsMap": {},
     "title": ""
    }
   },
   "outputs": [],
   "source": [
    "# creating spark session and providing app name\n",
    "spark = SparkSession.builder.appName(\"leetcode-top-50-sql-solution-with-pyspark\").getOrCreate()"
   ]
  },
  {
   "cell_type": "code",
   "execution_count": 0,
   "metadata": {
    "application/vnd.databricks.v1+cell": {
     "cellMetadata": {
      "byteLimit": 2048000,
      "rowLimit": 10000
     },
     "inputWidgets": {},
     "nuid": "979d9c8a-4f6c-411e-a083-a41946e09715",
     "showTitle": false,
     "tableResultSettingsMap": {},
     "title": ""
    }
   },
   "outputs": [],
   "source": [
    "# creating Schema\n",
    "# Define the schema for the Signups table\n",
    "signups_schema = StructType([\n",
    "    StructField(\"user_id\", IntegerType(), False),\n",
    "    StructField(\"time_stamp\", TimestampType(), True)\n",
    "])\n",
    "\n",
    "# Define the schema for the Confirmations table\n",
    "confirmations_schema = StructType([\n",
    "    StructField(\"user_id\", IntegerType(), False),\n",
    "    StructField(\"time_stamp\", TimestampType(), True),\n",
    "    StructField(\"action\", StringType(), True)\n",
    "])\n"
   ]
  },
  {
   "cell_type": "code",
   "execution_count": 0,
   "metadata": {
    "application/vnd.databricks.v1+cell": {
     "cellMetadata": {
      "byteLimit": 2048000,
      "rowLimit": 10000
     },
     "inputWidgets": {},
     "nuid": "ffd65670-f630-4134-9270-d33eed440b26",
     "showTitle": false,
     "tableResultSettingsMap": {},
     "title": ""
    }
   },
   "outputs": [],
   "source": [
    "# Create the Signups DataFrame\n",
    "signups_data = [\n",
    "    (3, \"2020-03-21 10:16:13\"),\n",
    "    (7, \"2020-01-04 13:57:59\"),\n",
    "    (2, \"2020-07-29 23:09:44\"),\n",
    "    (6, \"2020-12-09 10:39:37\")\n",
    "]\n",
    "\n",
    "signups_df = spark.createDataFrame(signups_data, schema=[\"user_id\", \"time_stamp\"])\n",
    "\n",
    "# Convert the `time_stamp` column to TimestampType\n",
    "signups_df = signups_df.withColumn(\"time_stamp\", to_timestamp(col(\"time_stamp\")))\n",
    "\n",
    "# Create the Confirmations DataFrame\n",
    "confirmations_data = [\n",
    "    (3, \"2021-01-06 03:30:46\", \"timeout\"),\n",
    "    (3, \"2021-07-14 14:00:00\", \"timeout\"),\n",
    "    (7, \"2021-06-12 11:57:29\", \"confirmed\"),\n",
    "    (7, \"2021-06-13 12:58:28\", \"confirmed\"),\n",
    "    (7, \"2021-06-14 13:59:27\", \"confirmed\"),\n",
    "    (2, \"2021-01-22 00:00:00\", \"confirmed\"),\n",
    "    (2, \"2021-02-28 23:59:59\", \"timeout\")\n",
    "]\n",
    "\n",
    "confirmations_df = spark.createDataFrame(confirmations_data, schema=[\"user_id\", \"time_stamp\", \"action\"])\n",
    "\n",
    "# Convert the `time_stamp` column to TimestampType\n",
    "confirmations_df = confirmations_df.withColumn(\"time_stamp\", to_timestamp(col(\"time_stamp\")))\n"
   ]
  },
  {
   "cell_type": "code",
   "execution_count": 0,
   "metadata": {
    "application/vnd.databricks.v1+cell": {
     "cellMetadata": {
      "byteLimit": 2048000,
      "rowLimit": 10000
     },
     "inputWidgets": {},
     "nuid": "d52d0d6f-886b-40ef-8f6e-16f95bc339b6",
     "showTitle": false,
     "tableResultSettingsMap": {},
     "title": ""
    }
   },
   "outputs": [
    {
     "output_type": "display_data",
     "data": {
      "text/html": [
       "<style scoped>\n",
       "  .table-result-container {\n",
       "    max-height: 300px;\n",
       "    overflow: auto;\n",
       "  }\n",
       "  table, th, td {\n",
       "    border: 1px solid black;\n",
       "    border-collapse: collapse;\n",
       "  }\n",
       "  th, td {\n",
       "    padding: 5px;\n",
       "  }\n",
       "  th {\n",
       "    text-align: left;\n",
       "  }\n",
       "</style><div class='table-result-container'><table class='table-result'><thead style='background-color: white'><tr><th>user_id</th><th>time_stamp</th></tr></thead><tbody><tr><td>3</td><td>2020-03-21T10:16:13.000+0000</td></tr><tr><td>7</td><td>2020-01-04T13:57:59.000+0000</td></tr><tr><td>2</td><td>2020-07-29T23:09:44.000+0000</td></tr><tr><td>6</td><td>2020-12-09T10:39:37.000+0000</td></tr></tbody></table></div>"
      ]
     },
     "metadata": {
      "application/vnd.databricks.v1+output": {
       "addedWidgets": {},
       "aggData": [],
       "aggError": "",
       "aggOverflow": false,
       "aggSchema": [],
       "aggSeriesLimitReached": false,
       "aggType": "",
       "arguments": {},
       "columnCustomDisplayInfos": {},
       "data": [
        [
         3,
         "2020-03-21T10:16:13.000+0000"
        ],
        [
         7,
         "2020-01-04T13:57:59.000+0000"
        ],
        [
         2,
         "2020-07-29T23:09:44.000+0000"
        ],
        [
         6,
         "2020-12-09T10:39:37.000+0000"
        ]
       ],
       "datasetInfos": [],
       "dbfsResultPath": null,
       "isJsonSchema": true,
       "metadata": {},
       "overflow": false,
       "plotOptions": {
        "customPlotOptions": {},
        "displayType": "table",
        "pivotAggregation": null,
        "pivotColumns": null,
        "xColumns": null,
        "yColumns": null
       },
       "removedWidgets": [],
       "schema": [
        {
         "metadata": "{}",
         "name": "user_id",
         "type": "\"long\""
        },
        {
         "metadata": "{}",
         "name": "time_stamp",
         "type": "\"timestamp\""
        }
       ],
       "type": "table"
      }
     },
     "output_type": "display_data"
    }
   ],
   "source": [
    "signups_df.display()"
   ]
  },
  {
   "cell_type": "code",
   "execution_count": 0,
   "metadata": {
    "application/vnd.databricks.v1+cell": {
     "cellMetadata": {
      "byteLimit": 2048000,
      "rowLimit": 10000
     },
     "inputWidgets": {},
     "nuid": "61104b9d-2c7b-4b77-b281-761df7af7a7e",
     "showTitle": false,
     "tableResultSettingsMap": {},
     "title": ""
    }
   },
   "outputs": [
    {
     "output_type": "display_data",
     "data": {
      "text/html": [
       "<style scoped>\n",
       "  .table-result-container {\n",
       "    max-height: 300px;\n",
       "    overflow: auto;\n",
       "  }\n",
       "  table, th, td {\n",
       "    border: 1px solid black;\n",
       "    border-collapse: collapse;\n",
       "  }\n",
       "  th, td {\n",
       "    padding: 5px;\n",
       "  }\n",
       "  th {\n",
       "    text-align: left;\n",
       "  }\n",
       "</style><div class='table-result-container'><table class='table-result'><thead style='background-color: white'><tr><th>user_id</th><th>time_stamp</th><th>action</th></tr></thead><tbody><tr><td>3</td><td>2021-01-06T03:30:46.000+0000</td><td>timeout</td></tr><tr><td>3</td><td>2021-07-14T14:00:00.000+0000</td><td>timeout</td></tr><tr><td>7</td><td>2021-06-12T11:57:29.000+0000</td><td>confirmed</td></tr><tr><td>7</td><td>2021-06-13T12:58:28.000+0000</td><td>confirmed</td></tr><tr><td>7</td><td>2021-06-14T13:59:27.000+0000</td><td>confirmed</td></tr><tr><td>2</td><td>2021-01-22T00:00:00.000+0000</td><td>confirmed</td></tr><tr><td>2</td><td>2021-02-28T23:59:59.000+0000</td><td>timeout</td></tr></tbody></table></div>"
      ]
     },
     "metadata": {
      "application/vnd.databricks.v1+output": {
       "addedWidgets": {},
       "aggData": [],
       "aggError": "",
       "aggOverflow": false,
       "aggSchema": [],
       "aggSeriesLimitReached": false,
       "aggType": "",
       "arguments": {},
       "columnCustomDisplayInfos": {},
       "data": [
        [
         3,
         "2021-01-06T03:30:46.000+0000",
         "timeout"
        ],
        [
         3,
         "2021-07-14T14:00:00.000+0000",
         "timeout"
        ],
        [
         7,
         "2021-06-12T11:57:29.000+0000",
         "confirmed"
        ],
        [
         7,
         "2021-06-13T12:58:28.000+0000",
         "confirmed"
        ],
        [
         7,
         "2021-06-14T13:59:27.000+0000",
         "confirmed"
        ],
        [
         2,
         "2021-01-22T00:00:00.000+0000",
         "confirmed"
        ],
        [
         2,
         "2021-02-28T23:59:59.000+0000",
         "timeout"
        ]
       ],
       "datasetInfos": [],
       "dbfsResultPath": null,
       "isJsonSchema": true,
       "metadata": {},
       "overflow": false,
       "plotOptions": {
        "customPlotOptions": {},
        "displayType": "table",
        "pivotAggregation": null,
        "pivotColumns": null,
        "xColumns": null,
        "yColumns": null
       },
       "removedWidgets": [],
       "schema": [
        {
         "metadata": "{}",
         "name": "user_id",
         "type": "\"long\""
        },
        {
         "metadata": "{}",
         "name": "time_stamp",
         "type": "\"timestamp\""
        },
        {
         "metadata": "{}",
         "name": "action",
         "type": "\"string\""
        }
       ],
       "type": "table"
      }
     },
     "output_type": "display_data"
    }
   ],
   "source": [
    "confirmations_df.display()\n"
   ]
  },
  {
   "cell_type": "code",
   "execution_count": 0,
   "metadata": {
    "application/vnd.databricks.v1+cell": {
     "cellMetadata": {
      "byteLimit": 2048000,
      "rowLimit": 10000
     },
     "inputWidgets": {},
     "nuid": "4112522b-b284-4534-8935-3c0e8cd2ff1d",
     "showTitle": false,
     "tableResultSettingsMap": {},
     "title": ""
    }
   },
   "outputs": [
    {
     "output_type": "display_data",
     "data": {
      "text/html": [
       "<style scoped>\n",
       "  .table-result-container {\n",
       "    max-height: 300px;\n",
       "    overflow: auto;\n",
       "  }\n",
       "  table, th, td {\n",
       "    border: 1px solid black;\n",
       "    border-collapse: collapse;\n",
       "  }\n",
       "  th, td {\n",
       "    padding: 5px;\n",
       "  }\n",
       "  th {\n",
       "    text-align: left;\n",
       "  }\n",
       "</style><div class='table-result-container'><table class='table-result'><thead style='background-color: white'><tr><th>user_id</th><th>confirmation_rate</th></tr></thead><tbody><tr><td>3</td><td>0.0</td></tr><tr><td>7</td><td>1.0</td></tr><tr><td>2</td><td>0.5</td></tr><tr><td>6</td><td>0.0</td></tr></tbody></table></div>"
      ]
     },
     "metadata": {
      "application/vnd.databricks.v1+output": {
       "addedWidgets": {},
       "aggData": [],
       "aggError": "",
       "aggOverflow": false,
       "aggSchema": [],
       "aggSeriesLimitReached": false,
       "aggType": "",
       "arguments": {},
       "columnCustomDisplayInfos": {},
       "data": [
        [
         3,
         0.0
        ],
        [
         7,
         1.0
        ],
        [
         2,
         0.5
        ],
        [
         6,
         0.0
        ]
       ],
       "datasetInfos": [],
       "dbfsResultPath": null,
       "isJsonSchema": true,
       "metadata": {},
       "overflow": false,
       "plotOptions": {
        "customPlotOptions": {},
        "displayType": "table",
        "pivotAggregation": null,
        "pivotColumns": null,
        "xColumns": null,
        "yColumns": null
       },
       "removedWidgets": [],
       "schema": [
        {
         "metadata": "{}",
         "name": "user_id",
         "type": "\"long\""
        },
        {
         "metadata": "{}",
         "name": "confirmation_rate",
         "type": "\"double\""
        }
       ],
       "type": "table"
      }
     },
     "output_type": "display_data"
    }
   ],
   "source": [
    "# Leetcode Solution in Spark SQL\n",
    "# Creating Temporary view for the product dataframe for sql queries\n",
    "signups_df.createOrReplaceTempView('signups')\n",
    "confirmations_df.createOrReplaceTempView('confirmations')\n",
    "\n",
    "\n",
    "\n",
    "sql_result = spark.sql(\n",
    "    '''\n",
    "    SELECT \n",
    "    su.user_id AS user_id,\n",
    "    ROUND(AVG(\n",
    "        CASE\n",
    "            WHEN conf.action = 'confirmed' THEN 1 ELSE 0 END\n",
    "    ),2) AS confirmation_rate\n",
    "    FROM Signups AS su\n",
    "    LEFT JOIN confirmations AS conf\n",
    "    ON su.user_id = conf.user_id\n",
    "    GROUP BY su.user_id;\n",
    "    \n",
    "    '''\n",
    ")\n",
    "\n",
    "# Displaying Result\n",
    "sql_result.display()"
   ]
  },
  {
   "cell_type": "code",
   "execution_count": 0,
   "metadata": {
    "application/vnd.databricks.v1+cell": {
     "cellMetadata": {
      "byteLimit": 2048000,
      "rowLimit": 10000
     },
     "inputWidgets": {},
     "nuid": "09e618a1-2c3c-47e8-a1fc-45f5df9bbe3f",
     "showTitle": false,
     "tableResultSettingsMap": {},
     "title": ""
    }
   },
   "outputs": [
    {
     "output_type": "display_data",
     "data": {
      "text/html": [
       "<style scoped>\n",
       "  .table-result-container {\n",
       "    max-height: 300px;\n",
       "    overflow: auto;\n",
       "  }\n",
       "  table, th, td {\n",
       "    border: 1px solid black;\n",
       "    border-collapse: collapse;\n",
       "  }\n",
       "  th, td {\n",
       "    padding: 5px;\n",
       "  }\n",
       "  th {\n",
       "    text-align: left;\n",
       "  }\n",
       "</style><div class='table-result-container'><table class='table-result'><thead style='background-color: white'><tr><th>user_id</th><th>confirmation_rate</th></tr></thead><tbody><tr><td>3</td><td>0.0</td></tr><tr><td>7</td><td>1.0</td></tr><tr><td>2</td><td>0.5</td></tr><tr><td>6</td><td>0.0</td></tr></tbody></table></div>"
      ]
     },
     "metadata": {
      "application/vnd.databricks.v1+output": {
       "addedWidgets": {},
       "aggData": [],
       "aggError": "",
       "aggOverflow": false,
       "aggSchema": [],
       "aggSeriesLimitReached": false,
       "aggType": "",
       "arguments": {},
       "columnCustomDisplayInfos": {},
       "data": [
        [
         3,
         0.0
        ],
        [
         7,
         1.0
        ],
        [
         2,
         0.5
        ],
        [
         6,
         0.0
        ]
       ],
       "datasetInfos": [],
       "dbfsResultPath": null,
       "isJsonSchema": true,
       "metadata": {},
       "overflow": false,
       "plotOptions": {
        "customPlotOptions": {},
        "displayType": "table",
        "pivotAggregation": null,
        "pivotColumns": null,
        "xColumns": null,
        "yColumns": null
       },
       "removedWidgets": [],
       "schema": [
        {
         "metadata": "{}",
         "name": "user_id",
         "type": "\"long\""
        },
        {
         "metadata": "{}",
         "name": "confirmation_rate",
         "type": "\"double\""
        }
       ],
       "type": "table"
      }
     },
     "output_type": "display_data"
    }
   ],
   "source": [
    "# Leetcode Solution in PySpark\n",
    "\n",
    "#Joining two tables\n",
    "joined_df = signups_df.join(confirmations_df, on=['user_id'], how='left').select('user_id', 'action')\n",
    "\n",
    "\n",
    "agg_df = joined_df.groupBy('user_id').agg(round(avg(when(joined_df.action == \"confirmed\",1).otherwise(0)),2).alias(\"confirmation_rate\"))\n",
    "\n",
    "agg_df.display()\n"
   ]
  },
  {
   "cell_type": "code",
   "execution_count": 0,
   "metadata": {
    "application/vnd.databricks.v1+cell": {
     "cellMetadata": {
      "byteLimit": 2048000,
      "rowLimit": 10000
     },
     "inputWidgets": {},
     "nuid": "f5bcfcf6-fd7e-490c-8931-b59a371fb062",
     "showTitle": false,
     "tableResultSettingsMap": {},
     "title": ""
    }
   },
   "outputs": [],
   "source": []
  }
 ],
 "metadata": {
  "application/vnd.databricks.v1+notebook": {
   "computePreferences": null,
   "dashboards": [],
   "environmentMetadata": {
    "base_environment": "",
    "client": "1"
   },
   "language": "python",
   "notebookMetadata": {
    "pythonIndentUnit": 4
   },
   "notebookName": "14 Confirmation Rate",
   "widgets": {}
  }
 },
 "nbformat": 4,
 "nbformat_minor": 0
}
