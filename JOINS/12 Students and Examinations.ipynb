{
 "cells": [
  {
   "cell_type": "markdown",
   "metadata": {
    "application/vnd.databricks.v1+cell": {
     "cellMetadata": {
      "byteLimit": 2048000,
      "rowLimit": 10000
     },
     "inputWidgets": {},
     "nuid": "3d317787-e188-401d-b134-3c6f50378d03",
     "showTitle": false,
     "tableResultSettingsMap": {},
     "title": ""
    }
   },
   "source": [
    "<pre>\n",
    "Table: Students\n",
    "\n",
    "+---------------+---------+\n",
    "| Column Name   | Type    |\n",
    "+---------------+---------+\n",
    "| student_id    | int     |\n",
    "| student_name  | varchar |\n",
    "+---------------+---------+\n",
    "student_id is the primary key (column with unique values) for this table.\n",
    "Each row of this table contains the ID and the name of one student in the school.\n",
    " \n",
    "\n",
    "Table: Subjects\n",
    "\n",
    "+--------------+---------+\n",
    "| Column Name  | Type    |\n",
    "+--------------+---------+\n",
    "| subject_name | varchar |\n",
    "+--------------+---------+\n",
    "subject_name is the primary key (column with unique values) for this table.\n",
    "Each row of this table contains the name of one subject in the school.\n",
    " \n",
    "\n",
    "Table: Examinations\n",
    "\n",
    "+--------------+---------+\n",
    "| Column Name  | Type    |\n",
    "+--------------+---------+\n",
    "| student_id   | int     |\n",
    "| subject_name | varchar |\n",
    "+--------------+---------+\n",
    "There is no primary key (column with unique values) for this table. It may contain duplicates.\n",
    "Each student from the Students table takes every course from the Subjects table.\n",
    "Each row of this table indicates that a student with ID student_id attended the exam of subject_name.\n",
    " \n",
    "\n",
    "Write a solution to find the number of times each student attended each exam.\n",
    "\n",
    "Return the result table ordered by student_id and subject_name.\n",
    "\n",
    "The result format is in the following example.\n",
    "\n",
    " \n",
    "\n",
    "Example 1:\n",
    "\n",
    "Input: \n",
    "Students table:\n",
    "+------------+--------------+\n",
    "| student_id | student_name |\n",
    "+------------+--------------+\n",
    "| 1          | Alice        |\n",
    "| 2          | Bob          |\n",
    "| 13         | John         |\n",
    "| 6          | Alex         |\n",
    "+------------+--------------+\n",
    "Subjects table:\n",
    "+--------------+\n",
    "| subject_name |\n",
    "+--------------+\n",
    "| Math         |\n",
    "| Physics      |\n",
    "| Programming  |\n",
    "+--------------+\n",
    "Examinations table:\n",
    "+------------+--------------+\n",
    "| student_id | subject_name |\n",
    "+------------+--------------+\n",
    "| 1          | Math         |\n",
    "| 1          | Physics      |\n",
    "| 1          | Programming  |\n",
    "| 2          | Programming  |\n",
    "| 1          | Physics      |\n",
    "| 1          | Math         |\n",
    "| 13         | Math         |\n",
    "| 13         | Programming  |\n",
    "| 13         | Physics      |\n",
    "| 2          | Math         |\n",
    "| 1          | Math         |\n",
    "+------------+--------------+\n",
    "Output: \n",
    "+------------+--------------+--------------+----------------+\n",
    "| student_id | student_name | subject_name | attended_exams |\n",
    "+------------+--------------+--------------+----------------+\n",
    "| 1          | Alice        | Math         | 3              |\n",
    "| 1          | Alice        | Physics      | 2              |\n",
    "| 1          | Alice        | Programming  | 1              |\n",
    "| 2          | Bob          | Math         | 1              |\n",
    "| 2          | Bob          | Physics      | 0              |\n",
    "| 2          | Bob          | Programming  | 1              |\n",
    "| 6          | Alex         | Math         | 0              |\n",
    "| 6          | Alex         | Physics      | 0              |\n",
    "| 6          | Alex         | Programming  | 0              |\n",
    "| 13         | John         | Math         | 1              |\n",
    "| 13         | John         | Physics      | 1              |\n",
    "| 13         | John         | Programming  | 1              |\n",
    "+------------+--------------+--------------+----------------+\n",
    "Explanation: \n",
    "The result table should contain all students and all subjects.\n",
    "Alice attended the Math exam 3 times, the Physics exam 2 times, and the Programming exam 1 time.\n",
    "Bob attended the Math exam 1 time, the Programming exam 1 time, and did not attend the Physics exam.\n",
    "Alex did not attend any exams.\n",
    "John attended the Math exam 1 time, the Physics exam 1 time, and the Programming exam 1 time.\n",
    "</pre>"
   ]
  },
  {
   "cell_type": "code",
   "execution_count": 0,
   "metadata": {
    "application/vnd.databricks.v1+cell": {
     "cellMetadata": {
      "byteLimit": 2048000,
      "rowLimit": 10000
     },
     "inputWidgets": {},
     "nuid": "998fb656-8d25-46c0-bdd8-789c35bb3b54",
     "showTitle": false,
     "tableResultSettingsMap": {},
     "title": ""
    }
   },
   "outputs": [
    {
     "output_type": "display_data",
     "data": {
      "text/html": [
       "\n",
       "            <div>\n",
       "                <p><b>SparkSession - hive</b></p>\n",
       "                \n",
       "        <div>\n",
       "            <p><b>SparkContext</b></p>\n",
       "\n",
       "            <p><a href=\"/?o=3382754090532250#setting/sparkui/0308-073616-ahtti7f0/driver-8799553522129628993\">Spark UI</a></p>\n",
       "\n",
       "            <dl>\n",
       "              <dt>Version</dt>\n",
       "                <dd><code>v3.3.2</code></dd>\n",
       "              <dt>Master</dt>\n",
       "                <dd><code>local[8]</code></dd>\n",
       "              <dt>AppName</dt>\n",
       "                <dd><code>Databricks Shell</code></dd>\n",
       "            </dl>\n",
       "        </div>\n",
       "        \n",
       "            </div>\n",
       "        "
      ]
     },
     "metadata": {
      "application/vnd.databricks.v1+output": {
       "addedWidgets": {},
       "arguments": {},
       "data": "\n            <div>\n                <p><b>SparkSession - hive</b></p>\n                \n        <div>\n            <p><b>SparkContext</b></p>\n\n            <p><a href=\"/?o=3382754090532250#setting/sparkui/0308-073616-ahtti7f0/driver-8799553522129628993\">Spark UI</a></p>\n\n            <dl>\n              <dt>Version</dt>\n                <dd><code>v3.3.2</code></dd>\n              <dt>Master</dt>\n                <dd><code>local[8]</code></dd>\n              <dt>AppName</dt>\n                <dd><code>Databricks Shell</code></dd>\n            </dl>\n        </div>\n        \n            </div>\n        ",
       "datasetInfos": [],
       "metadata": {},
       "removedWidgets": [],
       "textData": null,
       "type": "htmlSandbox"
      }
     },
     "output_type": "display_data"
    }
   ],
   "source": [
    "spark"
   ]
  },
  {
   "cell_type": "code",
   "execution_count": 0,
   "metadata": {
    "application/vnd.databricks.v1+cell": {
     "cellMetadata": {
      "byteLimit": 2048000,
      "rowLimit": 10000
     },
     "inputWidgets": {},
     "nuid": "a5b00b73-8ceb-499a-96c8-dfde53722983",
     "showTitle": false,
     "tableResultSettingsMap": {},
     "title": ""
    }
   },
   "outputs": [],
   "source": [
    "# importing pyspark sql functions\n",
    "from pyspark.sql.functions import *\n",
    "\n",
    "# importing sql types from pyspark\n",
    "from pyspark.sql.types import StructType, StructField, StringType, TimestampType, DoubleType, IntegerType, DateType, FloatType\n",
    "\n",
    "# importing SparkSession\n",
    "from pyspark.sql import SparkSession\n"
   ]
  },
  {
   "cell_type": "code",
   "execution_count": 0,
   "metadata": {
    "application/vnd.databricks.v1+cell": {
     "cellMetadata": {
      "byteLimit": 2048000,
      "rowLimit": 10000
     },
     "inputWidgets": {},
     "nuid": "14b57f35-8269-4f83-bbba-5686d19a62e7",
     "showTitle": false,
     "tableResultSettingsMap": {},
     "title": ""
    }
   },
   "outputs": [],
   "source": [
    "# creating spark session and providing app name\n",
    "spark = SparkSession.builder.appName(\"leetcode-top-50-sql-solution-with-pyspark\").getOrCreate()"
   ]
  },
  {
   "cell_type": "code",
   "execution_count": 0,
   "metadata": {
    "application/vnd.databricks.v1+cell": {
     "cellMetadata": {
      "byteLimit": 2048000,
      "rowLimit": 10000
     },
     "inputWidgets": {},
     "nuid": "979d9c8a-4f6c-411e-a083-a41946e09715",
     "showTitle": false,
     "tableResultSettingsMap": {},
     "title": ""
    }
   },
   "outputs": [],
   "source": [
    "# creating Schema\n",
    "# Define the schema for the Students table\n",
    "students_schema = StructType([\n",
    "    StructField(\"student_id\", IntegerType(), False),\n",
    "    StructField(\"student_name\", StringType(), True)\n",
    "])\n",
    "\n",
    "\n",
    "# Define the schema for the Subjects table\n",
    "subjects_schema = StructType([\n",
    "    StructField(\"subject_name\", StringType(), False)\n",
    "])\n",
    "\n",
    "# Define the schema for the Examinations table\n",
    "examinations_schema = StructType([\n",
    "    StructField(\"student_id\", IntegerType(), False),\n",
    "    StructField(\"subject_name\", StringType(), False)\n",
    "])\n",
    "\n",
    "\n",
    "\n"
   ]
  },
  {
   "cell_type": "code",
   "execution_count": 0,
   "metadata": {
    "application/vnd.databricks.v1+cell": {
     "cellMetadata": {
      "byteLimit": 2048000,
      "rowLimit": 10000
     },
     "inputWidgets": {},
     "nuid": "ffd65670-f630-4134-9270-d33eed440b26",
     "showTitle": false,
     "tableResultSettingsMap": {},
     "title": ""
    }
   },
   "outputs": [],
   "source": [
    "\n",
    "student_df = spark.createDataFrame([\n",
    "    (1, \"Alice\"),\n",
    "    (2, \"Bob\"),\n",
    "    (13, \"John\"),\n",
    "    (6, \"Alex\")\n",
    "], schema=students_schema)\n",
    "\n",
    "\n",
    "subject_df = spark.createDataFrame([\n",
    "    (\"Math\",),\n",
    "    (\"Physics\",),\n",
    "    (\"Programming\",)\n",
    "], schema=subjects_schema)\n",
    "\n",
    "\n",
    "examination_df = spark.createDataFrame([\n",
    "    (1, \"Math\"),\n",
    "    (1, \"Physics\"),\n",
    "    (1, \"Programming\"),\n",
    "    (2, \"Programming\"),\n",
    "    (1, \"Physics\"),\n",
    "    (1, \"Math\"),\n",
    "    (13, \"Math\"),\n",
    "    (13, \"Programming\"),\n",
    "    (13, \"Physics\"),\n",
    "    (2, \"Math\"),\n",
    "    (1, \"Math\")\n",
    "], schema=examinations_schema)\n",
    "\n",
    "\n",
    "\n"
   ]
  },
  {
   "cell_type": "code",
   "execution_count": 0,
   "metadata": {
    "application/vnd.databricks.v1+cell": {
     "cellMetadata": {
      "byteLimit": 2048000,
      "rowLimit": 10000
     },
     "inputWidgets": {},
     "nuid": "d52d0d6f-886b-40ef-8f6e-16f95bc339b6",
     "showTitle": false,
     "tableResultSettingsMap": {},
     "title": ""
    }
   },
   "outputs": [
    {
     "output_type": "display_data",
     "data": {
      "text/html": [
       "<style scoped>\n",
       "  .table-result-container {\n",
       "    max-height: 300px;\n",
       "    overflow: auto;\n",
       "  }\n",
       "  table, th, td {\n",
       "    border: 1px solid black;\n",
       "    border-collapse: collapse;\n",
       "  }\n",
       "  th, td {\n",
       "    padding: 5px;\n",
       "  }\n",
       "  th {\n",
       "    text-align: left;\n",
       "  }\n",
       "</style><div class='table-result-container'><table class='table-result'><thead style='background-color: white'><tr><th>student_id</th><th>student_name</th></tr></thead><tbody><tr><td>1</td><td>Alice</td></tr><tr><td>2</td><td>Bob</td></tr><tr><td>13</td><td>John</td></tr><tr><td>6</td><td>Alex</td></tr></tbody></table></div>"
      ]
     },
     "metadata": {
      "application/vnd.databricks.v1+output": {
       "addedWidgets": {},
       "aggData": [],
       "aggError": "",
       "aggOverflow": false,
       "aggSchema": [],
       "aggSeriesLimitReached": false,
       "aggType": "",
       "arguments": {},
       "columnCustomDisplayInfos": {},
       "data": [
        [
         1,
         "Alice"
        ],
        [
         2,
         "Bob"
        ],
        [
         13,
         "John"
        ],
        [
         6,
         "Alex"
        ]
       ],
       "datasetInfos": [],
       "dbfsResultPath": null,
       "isJsonSchema": true,
       "metadata": {},
       "overflow": false,
       "plotOptions": {
        "customPlotOptions": {},
        "displayType": "table",
        "pivotAggregation": null,
        "pivotColumns": null,
        "xColumns": null,
        "yColumns": null
       },
       "removedWidgets": [],
       "schema": [
        {
         "metadata": "{}",
         "name": "student_id",
         "type": "\"integer\""
        },
        {
         "metadata": "{}",
         "name": "student_name",
         "type": "\"string\""
        }
       ],
       "type": "table"
      }
     },
     "output_type": "display_data"
    }
   ],
   "source": [
    "student_df.display()"
   ]
  },
  {
   "cell_type": "code",
   "execution_count": 0,
   "metadata": {
    "application/vnd.databricks.v1+cell": {
     "cellMetadata": {
      "byteLimit": 2048000,
      "rowLimit": 10000
     },
     "inputWidgets": {},
     "nuid": "53b52333-8120-405a-9cfc-be499fc6d361",
     "showTitle": false,
     "tableResultSettingsMap": {},
     "title": ""
    }
   },
   "outputs": [
    {
     "output_type": "display_data",
     "data": {
      "text/html": [
       "<style scoped>\n",
       "  .table-result-container {\n",
       "    max-height: 300px;\n",
       "    overflow: auto;\n",
       "  }\n",
       "  table, th, td {\n",
       "    border: 1px solid black;\n",
       "    border-collapse: collapse;\n",
       "  }\n",
       "  th, td {\n",
       "    padding: 5px;\n",
       "  }\n",
       "  th {\n",
       "    text-align: left;\n",
       "  }\n",
       "</style><div class='table-result-container'><table class='table-result'><thead style='background-color: white'><tr><th>subject_name</th></tr></thead><tbody><tr><td>Math</td></tr><tr><td>Physics</td></tr><tr><td>Programming</td></tr></tbody></table></div>"
      ]
     },
     "metadata": {
      "application/vnd.databricks.v1+output": {
       "addedWidgets": {},
       "aggData": [],
       "aggError": "",
       "aggOverflow": false,
       "aggSchema": [],
       "aggSeriesLimitReached": false,
       "aggType": "",
       "arguments": {},
       "columnCustomDisplayInfos": {},
       "data": [
        [
         "Math"
        ],
        [
         "Physics"
        ],
        [
         "Programming"
        ]
       ],
       "datasetInfos": [],
       "dbfsResultPath": null,
       "isJsonSchema": true,
       "metadata": {},
       "overflow": false,
       "plotOptions": {
        "customPlotOptions": {},
        "displayType": "table",
        "pivotAggregation": null,
        "pivotColumns": null,
        "xColumns": null,
        "yColumns": null
       },
       "removedWidgets": [],
       "schema": [
        {
         "metadata": "{}",
         "name": "subject_name",
         "type": "\"string\""
        }
       ],
       "type": "table"
      }
     },
     "output_type": "display_data"
    }
   ],
   "source": [
    "subject_df.display()"
   ]
  },
  {
   "cell_type": "code",
   "execution_count": 0,
   "metadata": {
    "application/vnd.databricks.v1+cell": {
     "cellMetadata": {
      "byteLimit": 2048000,
      "rowLimit": 10000
     },
     "inputWidgets": {},
     "nuid": "cef7c8e7-b577-4bcc-809f-1b71e382f7f1",
     "showTitle": false,
     "tableResultSettingsMap": {},
     "title": ""
    }
   },
   "outputs": [
    {
     "output_type": "display_data",
     "data": {
      "text/html": [
       "<style scoped>\n",
       "  .table-result-container {\n",
       "    max-height: 300px;\n",
       "    overflow: auto;\n",
       "  }\n",
       "  table, th, td {\n",
       "    border: 1px solid black;\n",
       "    border-collapse: collapse;\n",
       "  }\n",
       "  th, td {\n",
       "    padding: 5px;\n",
       "  }\n",
       "  th {\n",
       "    text-align: left;\n",
       "  }\n",
       "</style><div class='table-result-container'><table class='table-result'><thead style='background-color: white'><tr><th>student_id</th><th>subject_name</th></tr></thead><tbody><tr><td>1</td><td>Math</td></tr><tr><td>1</td><td>Physics</td></tr><tr><td>1</td><td>Programming</td></tr><tr><td>2</td><td>Programming</td></tr><tr><td>1</td><td>Physics</td></tr><tr><td>1</td><td>Math</td></tr><tr><td>13</td><td>Math</td></tr><tr><td>13</td><td>Programming</td></tr><tr><td>13</td><td>Physics</td></tr><tr><td>2</td><td>Math</td></tr><tr><td>1</td><td>Math</td></tr></tbody></table></div>"
      ]
     },
     "metadata": {
      "application/vnd.databricks.v1+output": {
       "addedWidgets": {},
       "aggData": [],
       "aggError": "",
       "aggOverflow": false,
       "aggSchema": [],
       "aggSeriesLimitReached": false,
       "aggType": "",
       "arguments": {},
       "columnCustomDisplayInfos": {},
       "data": [
        [
         1,
         "Math"
        ],
        [
         1,
         "Physics"
        ],
        [
         1,
         "Programming"
        ],
        [
         2,
         "Programming"
        ],
        [
         1,
         "Physics"
        ],
        [
         1,
         "Math"
        ],
        [
         13,
         "Math"
        ],
        [
         13,
         "Programming"
        ],
        [
         13,
         "Physics"
        ],
        [
         2,
         "Math"
        ],
        [
         1,
         "Math"
        ]
       ],
       "datasetInfos": [],
       "dbfsResultPath": null,
       "isJsonSchema": true,
       "metadata": {},
       "overflow": false,
       "plotOptions": {
        "customPlotOptions": {},
        "displayType": "table",
        "pivotAggregation": null,
        "pivotColumns": null,
        "xColumns": null,
        "yColumns": null
       },
       "removedWidgets": [],
       "schema": [
        {
         "metadata": "{}",
         "name": "student_id",
         "type": "\"integer\""
        },
        {
         "metadata": "{}",
         "name": "subject_name",
         "type": "\"string\""
        }
       ],
       "type": "table"
      }
     },
     "output_type": "display_data"
    }
   ],
   "source": [
    "examination_df.display()"
   ]
  },
  {
   "cell_type": "code",
   "execution_count": 0,
   "metadata": {
    "application/vnd.databricks.v1+cell": {
     "cellMetadata": {
      "byteLimit": 2048000,
      "rowLimit": 10000
     },
     "inputWidgets": {},
     "nuid": "4112522b-b284-4534-8935-3c0e8cd2ff1d",
     "showTitle": false,
     "tableResultSettingsMap": {},
     "title": ""
    }
   },
   "outputs": [
    {
     "output_type": "display_data",
     "data": {
      "text/html": [
       "<style scoped>\n",
       "  .table-result-container {\n",
       "    max-height: 300px;\n",
       "    overflow: auto;\n",
       "  }\n",
       "  table, th, td {\n",
       "    border: 1px solid black;\n",
       "    border-collapse: collapse;\n",
       "  }\n",
       "  th, td {\n",
       "    padding: 5px;\n",
       "  }\n",
       "  th {\n",
       "    text-align: left;\n",
       "  }\n",
       "</style><div class='table-result-container'><table class='table-result'><thead style='background-color: white'><tr><th>student_id</th><th>student_name</th><th>subject_name</th><th>attended_exams</th></tr></thead><tbody><tr><td>1</td><td>Alice</td><td>Math</td><td>3</td></tr><tr><td>1</td><td>Alice</td><td>Physics</td><td>2</td></tr><tr><td>1</td><td>Alice</td><td>Programming</td><td>1</td></tr><tr><td>2</td><td>Bob</td><td>Math</td><td>1</td></tr><tr><td>2</td><td>Bob</td><td>Physics</td><td>0</td></tr><tr><td>2</td><td>Bob</td><td>Programming</td><td>1</td></tr><tr><td>6</td><td>Alex</td><td>Math</td><td>0</td></tr><tr><td>6</td><td>Alex</td><td>Physics</td><td>0</td></tr><tr><td>6</td><td>Alex</td><td>Programming</td><td>0</td></tr><tr><td>13</td><td>John</td><td>Math</td><td>1</td></tr><tr><td>13</td><td>John</td><td>Physics</td><td>1</td></tr><tr><td>13</td><td>John</td><td>Programming</td><td>1</td></tr></tbody></table></div>"
      ]
     },
     "metadata": {
      "application/vnd.databricks.v1+output": {
       "addedWidgets": {},
       "aggData": [],
       "aggError": "",
       "aggOverflow": false,
       "aggSchema": [],
       "aggSeriesLimitReached": false,
       "aggType": "",
       "arguments": {},
       "columnCustomDisplayInfos": {},
       "data": [
        [
         1,
         "Alice",
         "Math",
         3
        ],
        [
         1,
         "Alice",
         "Physics",
         2
        ],
        [
         1,
         "Alice",
         "Programming",
         1
        ],
        [
         2,
         "Bob",
         "Math",
         1
        ],
        [
         2,
         "Bob",
         "Physics",
         0
        ],
        [
         2,
         "Bob",
         "Programming",
         1
        ],
        [
         6,
         "Alex",
         "Math",
         0
        ],
        [
         6,
         "Alex",
         "Physics",
         0
        ],
        [
         6,
         "Alex",
         "Programming",
         0
        ],
        [
         13,
         "John",
         "Math",
         1
        ],
        [
         13,
         "John",
         "Physics",
         1
        ],
        [
         13,
         "John",
         "Programming",
         1
        ]
       ],
       "datasetInfos": [],
       "dbfsResultPath": null,
       "isJsonSchema": true,
       "metadata": {},
       "overflow": false,
       "plotOptions": {
        "customPlotOptions": {},
        "displayType": "table",
        "pivotAggregation": null,
        "pivotColumns": null,
        "xColumns": null,
        "yColumns": null
       },
       "removedWidgets": [],
       "schema": [
        {
         "metadata": "{}",
         "name": "student_id",
         "type": "\"integer\""
        },
        {
         "metadata": "{}",
         "name": "student_name",
         "type": "\"string\""
        },
        {
         "metadata": "{}",
         "name": "subject_name",
         "type": "\"string\""
        },
        {
         "metadata": "{}",
         "name": "attended_exams",
         "type": "\"long\""
        }
       ],
       "type": "table"
      }
     },
     "output_type": "display_data"
    }
   ],
   "source": [
    "# Leetcode Solution in Spark SQL\n",
    "# Creating Temporary view for the product dataframe for sql queries\n",
    "student_df.createOrReplaceTempView('students')\n",
    "subject_df.createOrReplaceTempView('subjects')\n",
    "examination_df.createOrReplaceTempView('examinations')\n",
    "\n",
    "\n",
    "\n",
    "sql_result = spark.sql(\n",
    "    '''\n",
    "   WITH cartesianProductTable AS \n",
    "(\n",
    "    SELECT\n",
    "    * \n",
    "    FROM students\n",
    "    JOIN subjects\n",
    ")\n",
    "\n",
    "SELECT \n",
    "main_tab.student_id,\n",
    "main_tab.student_name,\n",
    "main_tab.subject_name,\n",
    "SUM(\n",
    "    CASE WHEN exam_tab.student_id IS NULL THEN 0 ELSE 1 END\n",
    ") AS attended_exams\n",
    "FROM cartesianProductTable AS main_tab\n",
    "LEFT JOIN examinations AS exam_tab\n",
    "ON  main_tab.student_id = exam_tab.student_id AND  main_tab.subject_name  = exam_tab.subject_name \n",
    "GROUP BY main_tab.student_id, main_tab.student_name, main_tab.subject_name\n",
    "ORDER BY main_tab.student_id, main_tab.student_name, main_tab.subject_name;\n",
    "    \n",
    "    '''\n",
    ")\n",
    "\n",
    "# Displaying Result\n",
    "sql_result.display()"
   ]
  },
  {
   "cell_type": "code",
   "execution_count": 0,
   "metadata": {
    "application/vnd.databricks.v1+cell": {
     "cellMetadata": {
      "byteLimit": 2048000,
      "rowLimit": 10000
     },
     "inputWidgets": {},
     "nuid": "09e618a1-2c3c-47e8-a1fc-45f5df9bbe3f",
     "showTitle": false,
     "tableResultSettingsMap": {},
     "title": ""
    }
   },
   "outputs": [
    {
     "output_type": "display_data",
     "data": {
      "text/html": [
       "<style scoped>\n",
       "  .table-result-container {\n",
       "    max-height: 300px;\n",
       "    overflow: auto;\n",
       "  }\n",
       "  table, th, td {\n",
       "    border: 1px solid black;\n",
       "    border-collapse: collapse;\n",
       "  }\n",
       "  th, td {\n",
       "    padding: 5px;\n",
       "  }\n",
       "  th {\n",
       "    text-align: left;\n",
       "  }\n",
       "</style><div class='table-result-container'><table class='table-result'><thead style='background-color: white'><tr><th>student_id</th><th>student_name</th><th>subject_name</th><th>attended_exams</th></tr></thead><tbody><tr><td>1</td><td>Alice</td><td>Math</td><td>3</td></tr><tr><td>1</td><td>Alice</td><td>Physics</td><td>2</td></tr><tr><td>1</td><td>Alice</td><td>Programming</td><td>1</td></tr><tr><td>2</td><td>Bob</td><td>Math</td><td>1</td></tr><tr><td>2</td><td>Bob</td><td>Physics</td><td>1</td></tr><tr><td>2</td><td>Bob</td><td>Programming</td><td>1</td></tr><tr><td>6</td><td>Alex</td><td>Math</td><td>1</td></tr><tr><td>6</td><td>Alex</td><td>Physics</td><td>1</td></tr><tr><td>6</td><td>Alex</td><td>Programming</td><td>1</td></tr><tr><td>13</td><td>John</td><td>Math</td><td>1</td></tr><tr><td>13</td><td>John</td><td>Physics</td><td>1</td></tr><tr><td>13</td><td>John</td><td>Programming</td><td>1</td></tr></tbody></table></div>"
      ]
     },
     "metadata": {
      "application/vnd.databricks.v1+output": {
       "addedWidgets": {},
       "aggData": [],
       "aggError": "",
       "aggOverflow": false,
       "aggSchema": [],
       "aggSeriesLimitReached": false,
       "aggType": "",
       "arguments": {},
       "columnCustomDisplayInfos": {},
       "data": [
        [
         1,
         "Alice",
         "Math",
         3
        ],
        [
         1,
         "Alice",
         "Physics",
         2
        ],
        [
         1,
         "Alice",
         "Programming",
         1
        ],
        [
         2,
         "Bob",
         "Math",
         1
        ],
        [
         2,
         "Bob",
         "Physics",
         1
        ],
        [
         2,
         "Bob",
         "Programming",
         1
        ],
        [
         6,
         "Alex",
         "Math",
         1
        ],
        [
         6,
         "Alex",
         "Physics",
         1
        ],
        [
         6,
         "Alex",
         "Programming",
         1
        ],
        [
         13,
         "John",
         "Math",
         1
        ],
        [
         13,
         "John",
         "Physics",
         1
        ],
        [
         13,
         "John",
         "Programming",
         1
        ]
       ],
       "datasetInfos": [],
       "dbfsResultPath": null,
       "isJsonSchema": true,
       "metadata": {},
       "overflow": false,
       "plotOptions": {
        "customPlotOptions": {},
        "displayType": "table",
        "pivotAggregation": null,
        "pivotColumns": null,
        "xColumns": null,
        "yColumns": null
       },
       "removedWidgets": [],
       "schema": [
        {
         "metadata": "{}",
         "name": "student_id",
         "type": "\"integer\""
        },
        {
         "metadata": "{}",
         "name": "student_name",
         "type": "\"string\""
        },
        {
         "metadata": "{}",
         "name": "subject_name",
         "type": "\"string\""
        },
        {
         "metadata": "{}",
         "name": "attended_exams",
         "type": "\"long\""
        }
       ],
       "type": "table"
      }
     },
     "output_type": "display_data"
    }
   ],
   "source": [
    "# Leetcode Solution in PySpark\n",
    "# As Done in Above SQL solution\n",
    "\n",
    "# Create Cartesian Product of Students and Subjects\n",
    "cartesian_product_df = student_df.crossJoin(subject_df)\n",
    "\n",
    "#Joining Cartesian Product with Examinations\n",
    "joined_df = cartesian_product_df.join(\n",
    "    examination_df,\n",
    "    on=[\"student_id\", \"subject_name\"],\n",
    "    how=\"left\"\n",
    ")\n",
    "\n",
    "# Grouping data by student_id, student_name, and subject_name to calculate attended_exams\n",
    "result_df = joined_df.groupBy(\n",
    "    \"student_id\", \"student_name\", \"subject_name\"\n",
    ").agg(\n",
    "    sum(\n",
    "        when(col(\"student_id\").isNotNull(), 1).otherwise(0)\n",
    "    ).alias(\"attended_exams\")\n",
    ")\n",
    "\n",
    "# Order By student_id, student_name, and subject_name\n",
    "final_df = result_df.orderBy(\"student_id\", \"student_name\", \"subject_name\")\n",
    "\n",
    "final_df.display()"
   ]
  },
  {
   "cell_type": "code",
   "execution_count": 0,
   "metadata": {
    "application/vnd.databricks.v1+cell": {
     "cellMetadata": {
      "byteLimit": 2048000,
      "rowLimit": 10000
     },
     "inputWidgets": {},
     "nuid": "f5bcfcf6-fd7e-490c-8931-b59a371fb062",
     "showTitle": false,
     "tableResultSettingsMap": {},
     "title": ""
    }
   },
   "outputs": [],
   "source": []
  }
 ],
 "metadata": {
  "application/vnd.databricks.v1+notebook": {
   "computePreferences": null,
   "dashboards": [],
   "environmentMetadata": {
    "base_environment": "",
    "client": "1"
   },
   "language": "python",
   "notebookMetadata": {
    "pythonIndentUnit": 4
   },
   "notebookName": "12 Students and Examinations",
   "widgets": {}
  }
 },
 "nbformat": 4,
 "nbformat_minor": 0
}
